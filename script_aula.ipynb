{
 "cells": [
  {
   "cell_type": "markdown",
   "source": [
    "# Manipulação de arquivos"
   ],
   "metadata": {
    "collapsed": false,
    "pycharm": {
     "name": "#%% md\n"
    }
   }
  },
  {
   "cell_type": "code",
   "execution_count": null,
   "outputs": [],
   "source": [
    "arquivo = open('aula.csv', 'r')\n",
    "csv = arquivo.read()\n",
    "print(csv)\n",
    "csv.close()"
   ],
   "metadata": {
    "collapsed": false,
    "pycharm": {
     "name": "#%%\n",
     "is_executing": true
    }
   }
  },
  {
   "cell_type": "code",
   "execution_count": null,
   "outputs": [],
   "source": [
    "arquivo = open('aula.csv', 'r')\n",
    "csv = arquivo.readline()\n",
    "while csv != '':\n",
    "    print(csv, end='')\n",
    "    csv = arquivo.readline()\n",
    "    csv.close()"
   ],
   "metadata": {
    "collapsed": false,
    "pycharm": {
     "name": "#%%\n",
     "is_executing": true
    }
   }
  },
  {
   "cell_type": "code",
   "execution_count": null,
   "outputs": [],
   "source": [
    "with open('aula.csv', 'r') as aula:\n",
    "    csv = aula.read()\n",
    "    print(csv)"
   ],
   "metadata": {
    "collapsed": false,
    "pycharm": {
     "name": "#%%\n",
     "is_executing": true
    }
   }
  },
  {
   "cell_type": "code",
   "execution_count": 8,
   "outputs": [],
   "source": [
    "with open('arquivo_novo.csv', 'w') as novo:\n",
    "    novo.write('essa é uma linha que eu vou criar usando python\\n')\n",
    "    novo.write('essa é OUTRA linha que eu vou criar usando python\\n')"
   ],
   "metadata": {
    "collapsed": false,
    "pycharm": {
     "name": "#%%\n"
    }
   }
  },
  {
   "cell_type": "code",
   "execution_count": null,
   "outputs": [],
   "source": [
    "with open('arquivo_novo.csv', 'r') as novo:\n",
    "    print(novo.read())"
   ],
   "metadata": {
    "collapsed": false,
    "pycharm": {
     "name": "#%%\n",
     "is_executing": true
    }
   }
  },
  {
   "cell_type": "code",
   "execution_count": 12,
   "outputs": [],
   "source": [
    "with open('arquivo_novo.csv', 'a') as novo:\n",
    "    novo.write('essa é mais outra linha que eu vou criar usando python\\n')"
   ],
   "metadata": {
    "collapsed": false,
    "pycharm": {
     "name": "#%%\n"
    }
   }
  },
  {
   "cell_type": "markdown",
   "source": [
    "# Manipulaçao de arquivos CSV"
   ],
   "metadata": {
    "collapsed": false,
    "pycharm": {
     "name": "#%% md\n"
    }
   }
  },
  {
   "cell_type": "code",
   "execution_count": 15,
   "outputs": [],
   "source": [
    "import csv"
   ],
   "metadata": {
    "collapsed": false,
    "pycharm": {
     "name": "#%%\n"
    }
   }
  },
  {
   "cell_type": "code",
   "execution_count": null,
   "outputs": [],
   "source": [
    "with open('aula.csv', 'r') as arquivo:\n",
    "    arquivo = csv.reader(arquivo)\n",
    "    header = next(arquivo)\n",
    "    for i in arquivo:\n",
    "        if float(i[2]) > 1:\n",
    "            print(i)"
   ],
   "metadata": {
    "collapsed": false,
    "pycharm": {
     "name": "#%%\n",
     "is_executing": true
    }
   }
  },
  {
   "cell_type": "code",
   "execution_count": null,
   "outputs": [],
   "source": [
    "with open('aula.csv', 'r') as arquivo:\n",
    "    linhas = arquivo.read()\n",
    "    linhas = linhas.split('\\n')\n",
    "    for i in linhas:\n",
    "        i = i.split(',')\n",
    "        print(i)"
   ],
   "metadata": {
    "collapsed": false,
    "pycharm": {
     "name": "#%%\n",
     "is_executing": true
    }
   }
  },
  {
   "cell_type": "code",
   "execution_count": 26,
   "outputs": [],
   "source": [
    "with open('users.csv', 'w', newline='') as users:\n",
    "    escritor = csv.writer(users)\n",
    "    escritor.writerow(['nome', 'sobrenome','email','genero'])\n",
    "    escritor.writerow(['ari','henrique','ari@email.com','masculino'])"
   ],
   "metadata": {
    "collapsed": false,
    "pycharm": {
     "name": "#%%\n"
    }
   }
  },
  {
   "cell_type": "markdown",
   "source": [
    "# API"
   ],
   "metadata": {
    "collapsed": false,
    "pycharm": {
     "name": "#%% md\n"
    }
   }
  },
  {
   "cell_type": "code",
   "execution_count": null,
   "outputs": [],
   "source": [
    "!pip install requests"
   ],
   "metadata": {
    "collapsed": false,
    "pycharm": {
     "name": "#%%\n",
     "is_executing": true
    }
   }
  },
  {
   "cell_type": "code",
   "execution_count": 1,
   "outputs": [],
   "source": [
    "import requests"
   ],
   "metadata": {
    "collapsed": false,
    "pycharm": {
     "name": "#%%\n"
    }
   }
  },
  {
   "cell_type": "code",
   "execution_count": 2,
   "outputs": [
    {
     "name": "stdout",
     "output_type": "stream",
     "text": [
      "200\n"
     ]
    }
   ],
   "source": [
    "url = 'https://api.exchangerate-api.com/v6/latest'\n",
    "\n",
    "req = requests.get(url)\n",
    "\n",
    "print(req.status_code)"
   ],
   "metadata": {
    "collapsed": false,
    "pycharm": {
     "name": "#%%\n"
    }
   }
  },
  {
   "cell_type": "code",
   "execution_count": 3,
   "outputs": [
    {
     "name": "stdout",
     "output_type": "stream",
     "text": [
      "{'result': 'success', 'provider': 'https://www.exchangerate-api.com', 'documentation': 'https://www.exchangerate-api.com/docs/free', 'terms_of_use': 'https://www.exchangerate-api.com/terms', 'time_last_update_unix': 1663459352, 'time_last_update_utc': 'Sun, 18 Sep 2022 00:02:32 +0000', 'time_next_update_unix': 1663547182, 'time_next_update_utc': 'Mon, 19 Sep 2022 00:26:22 +0000', 'time_eol_unix': 0, 'base_code': 'USD', 'rates': {'USD': 1, 'AED': 3.6725, 'AFN': 87.927885, 'ALL': 116.859695, 'AMD': 415.535001, 'ANG': 1.79, 'AOA': 427.937933, 'ARS': 142.17499, 'AUD': 1.491336, 'AWG': 1.79, 'AZN': 1.694383, 'BAM': 1.955932, 'BBD': 2, 'BDT': 102.941366, 'BGN': 1.956317, 'BHD': 0.376, 'BIF': 2034.312178, 'BMD': 1, 'BND': 1.404477, 'BOB': 6.890524, 'BRL': 5.258404, 'BSD': 1, 'BTN': 79.735559, 'BWP': 13.156247, 'BYN': 2.642953, 'BZD': 2, 'CAD': 1.326915, 'CDF': 2010.926954, 'CHF': 0.963971, 'CLP': 923.405965, 'CNY': 7.009368, 'COP': 4386.459024, 'CRC': 634.133835, 'CUP': 24, 'CVE': 110.270733, 'CZK': 24.479483, 'DJF': 177.721, 'DKK': 7.460768, 'DOP': 53.21891, 'DZD': 140.663898, 'EGP': 19.36758, 'ERN': 15, 'ETB': 52.595783, 'EUR': 1.000056, 'FJD': 2.23914, 'FKP': 0.877546, 'FOK': 7.460768, 'GBP': 0.877555, 'GEL': 2.822279, 'GGP': 0.877546, 'GHS': 10.287232, 'GIP': 0.877546, 'GMD': 55.413062, 'GNF': 8596.128878, 'GTQ': 7.764306, 'GYD': 207.832722, 'HKD': 7.85119, 'HNL': 24.711261, 'HRK': 7.534892, 'HTG': 117.483063, 'HUF': 404.165907, 'IDR': 14920.796081, 'ILS': 3.427623, 'IMP': 0.877546, 'INR': 79.736581, 'IQD': 1449.949449, 'IRR': 41953.725866, 'ISK': 138.853662, 'JEP': 0.877546, 'JMD': 151.99173, 'JOD': 0.709, 'JPY': 143.225724, 'KES': 120.48107, 'KGS': 81.669365, 'KHR': 4081.292493, 'KID': 1.491324, 'KMF': 491.993329, 'KRW': 1387.89879, 'KWD': 0.29963, 'KYD': 0.833333, 'KZT': 474.971583, 'LAK': 17899.753567, 'LBP': 1507.5, 'LKR': 359.227575, 'LRD': 153.215398, 'LSL': 17.591817, 'LYD': 4.891086, 'MAD': 10.699929, 'MDL': 19.34791, 'MGA': 4127.509125, 'MKD': 61.728658, 'MMK': 2722.298556, 'MNT': 3219.126452, 'MOP': 8.086714, 'MRU': 37.547891, 'MUR': 44.986425, 'MVR': 15.401472, 'MWK': 1031.985101, 'MXN': 20.099635, 'MYR': 4.526279, 'MZN': 64.662881, 'NAD': 17.591817, 'NGN': 423.28527, 'NIO': 36.013385, 'NOK': 10.216506, 'NPR': 127.576895, 'NZD': 1.673164, 'OMR': 0.384497, 'PAB': 1, 'PEN': 3.874479, 'PGK': 3.507221, 'PHP': 57.3168, 'PKR': 233.521246, 'PLN': 4.706414, 'PYG': 6922.813298, 'QAR': 3.64, 'RON': 4.909117, 'RSD': 117.271764, 'RUB': 60.085869, 'RWF': 1062.883026, 'SAR': 3.75, 'SBD': 8.027166, 'SCR': 13.021356, 'SDG': 565.538729, 'SEK': 10.765129, 'SGD': 1.404496, 'SHP': 0.877546, 'SLE': 14.353169, 'SLL': 14353.169322, 'SOS': 564.731845, 'SRD': 26.835257, 'SSP': 645.454898, 'STN': 24.501274, 'SYP': 2485.173269, 'SZL': 17.591817, 'THB': 37.011576, 'TJS': 10.225864, 'TMT': 3.498201, 'TND': 2.921188, 'TOP': 2.365244, 'TRY': 18.174922, 'TTD': 6.757367, 'TVD': 1.491324, 'TWD': 31.222196, 'TZS': 2327.733468, 'UAH': 37.285645, 'UGX': 3809.517318, 'UYU': 40.618476, 'UZS': 10936.640049, 'VES': 8.0508, 'VND': 23634.749971, 'VUV': 117.069091, 'WST': 2.666114, 'XAF': 655.991105, 'XCD': 2.7, 'XDR': 0.77411, 'XOF': 655.991105, 'XPF': 119.338204, 'YER': 249.109617, 'ZAR': 17.592001, 'ZMW': 15.599345, 'ZWL': 603.98905}}\n"
     ]
    }
   ],
   "source": [
    "dados = req.json()\n",
    "print(dados)"
   ],
   "metadata": {
    "collapsed": false,
    "pycharm": {
     "name": "#%%\n"
    }
   }
  },
  {
   "cell_type": "code",
   "execution_count": 67,
   "outputs": [
    {
     "name": "stdout",
     "output_type": "stream",
     "text": [
      "R$100.0 em dólar valem US$ 19.02\n"
     ]
    }
   ],
   "source": [
    "valor_reais = float(input('Informe o valor em R$ a ser convertido\\n'))\n",
    "cotacao = dados['rates']['BRL']\n",
    "print(f'R${valor_reais} em dólar valem US$ {(valor_reais / cotacao):.2f}')"
   ],
   "metadata": {
    "collapsed": false,
    "pycharm": {
     "name": "#%%\n"
    }
   }
  },
  {
   "cell_type": "markdown",
   "source": [
    "# Projeto final"
   ],
   "metadata": {
    "collapsed": false,
    "pycharm": {
     "name": "#%% md\n"
    }
   }
  },
  {
   "cell_type": "code",
   "execution_count": 74,
   "outputs": [],
   "source": [
    "import requests as r\n",
    "import datetime as dt"
   ],
   "metadata": {
    "collapsed": false,
    "pycharm": {
     "name": "#%%\n"
    }
   }
  },
  {
   "cell_type": "code",
   "execution_count": 93,
   "outputs": [],
   "source": [
    "url = 'https://api.covid19api.com/dayone/country/brazil'\n",
    "resp = r.get(url)"
   ],
   "metadata": {
    "collapsed": false,
    "pycharm": {
     "name": "#%%\n"
    }
   }
  },
  {
   "cell_type": "code",
   "execution_count": 94,
   "outputs": [
    {
     "data": {
      "text/plain": "200"
     },
     "execution_count": 94,
     "metadata": {},
     "output_type": "execute_result"
    }
   ],
   "source": [
    "resp.status_code"
   ],
   "metadata": {
    "collapsed": false,
    "pycharm": {
     "name": "#%%\n"
    }
   }
  },
  {
   "cell_type": "code",
   "execution_count": 95,
   "outputs": [],
   "source": [
    "raw_data = resp.json()"
   ],
   "metadata": {
    "collapsed": false,
    "pycharm": {
     "name": "#%%\n"
    }
   }
  },
  {
   "cell_type": "code",
   "execution_count": 96,
   "outputs": [
    {
     "data": {
      "text/plain": "{'ID': '63aa488e-b4a2-4fcd-ae15-07c1ff219903',\n 'Country': 'Brazil',\n 'CountryCode': 'BR',\n 'Province': '',\n 'City': '',\n 'CityCode': '',\n 'Lat': '-14.24',\n 'Lon': '-51.93',\n 'Confirmed': 1,\n 'Deaths': 0,\n 'Recovered': 0,\n 'Active': 1,\n 'Date': '2020-02-26T00:00:00Z'}"
     },
     "execution_count": 96,
     "metadata": {},
     "output_type": "execute_result"
    }
   ],
   "source": [
    "raw_data[0]"
   ],
   "metadata": {
    "collapsed": false,
    "pycharm": {
     "name": "#%%\n"
    }
   }
  },
  {
   "cell_type": "code",
   "execution_count": 142,
   "outputs": [],
   "source": [
    "final_data = []\n",
    "for i in raw_data[:20]:\n",
    "    final_data.append([i['Confirmed'], i['Deaths'], i['Recovered'], i['Active'], i['Date']])"
   ],
   "metadata": {
    "collapsed": false,
    "pycharm": {
     "name": "#%%\n"
    }
   }
  },
  {
   "cell_type": "code",
   "execution_count": 143,
   "outputs": [
    {
     "data": {
      "text/plain": "[['confirmados', 'obitos', 'recuperados', 'ativos', 'data'],\n [1, 0, 0, 1, '2020-02-26T00:00:00Z'],\n [1, 0, 0, 1, '2020-02-27T00:00:00Z'],\n [1, 0, 0, 1, '2020-02-28T00:00:00Z'],\n [2, 0, 0, 2, '2020-02-29T00:00:00Z'],\n [2, 0, 0, 2, '2020-03-01T00:00:00Z'],\n [2, 0, 0, 2, '2020-03-02T00:00:00Z'],\n [2, 0, 0, 2, '2020-03-03T00:00:00Z'],\n [4, 0, 0, 4, '2020-03-04T00:00:00Z'],\n [4, 0, 0, 4, '2020-03-05T00:00:00Z'],\n [13, 0, 0, 13, '2020-03-06T00:00:00Z'],\n [13, 0, 0, 13, '2020-03-07T00:00:00Z'],\n [20, 0, 0, 20, '2020-03-08T00:00:00Z'],\n [25, 0, 0, 25, '2020-03-09T00:00:00Z'],\n [31, 0, 0, 31, '2020-03-10T00:00:00Z'],\n [38, 0, 0, 38, '2020-03-11T00:00:00Z'],\n [52, 0, 0, 52, '2020-03-12T00:00:00Z'],\n [151, 0, 0, 151, '2020-03-13T00:00:00Z'],\n [151, 0, 0, 151, '2020-03-14T00:00:00Z'],\n [162, 0, 0, 162, '2020-03-15T00:00:00Z'],\n [200, 0, 1, 199, '2020-03-16T00:00:00Z']]"
     },
     "execution_count": 143,
     "metadata": {},
     "output_type": "execute_result"
    }
   ],
   "source": [
    "final_data.insert(0, ['confirmados','obitos','recuperados','ativos','data'])\n",
    "final_data"
   ],
   "metadata": {
    "collapsed": false,
    "pycharm": {
     "name": "#%%\n"
    }
   }
  },
  {
   "cell_type": "code",
   "execution_count": 144,
   "outputs": [],
   "source": [
    "CONFIRMADOS = 0\n",
    "OBITOS = 1\n",
    "RECUPERADOS = 2\n",
    "ATIVOS = 3\n",
    "DATA = 4"
   ],
   "metadata": {
    "collapsed": false,
    "pycharm": {
     "name": "#%%\n"
    }
   }
  },
  {
   "cell_type": "code",
   "execution_count": 145,
   "outputs": [],
   "source": [
    "for i in range(1, len(final_data)):\n",
    "    final_data[i][DATA] = final_data[i][DATA][:10] # A [DATA] SE REFERE A POSICAO \"4\" DA LISTA"
   ],
   "metadata": {
    "collapsed": false,
    "pycharm": {
     "name": "#%%\n"
    }
   }
  },
  {
   "cell_type": "code",
   "execution_count": 146,
   "outputs": [
    {
     "data": {
      "text/plain": "[['confirmados', 'obitos', 'recuperados', 'ativos', 'data'],\n [1, 0, 0, 1, '2020-02-26'],\n [1, 0, 0, 1, '2020-02-27'],\n [1, 0, 0, 1, '2020-02-28'],\n [2, 0, 0, 2, '2020-02-29'],\n [2, 0, 0, 2, '2020-03-01'],\n [2, 0, 0, 2, '2020-03-02'],\n [2, 0, 0, 2, '2020-03-03'],\n [4, 0, 0, 4, '2020-03-04'],\n [4, 0, 0, 4, '2020-03-05'],\n [13, 0, 0, 13, '2020-03-06'],\n [13, 0, 0, 13, '2020-03-07'],\n [20, 0, 0, 20, '2020-03-08'],\n [25, 0, 0, 25, '2020-03-09'],\n [31, 0, 0, 31, '2020-03-10'],\n [38, 0, 0, 38, '2020-03-11'],\n [52, 0, 0, 52, '2020-03-12'],\n [151, 0, 0, 151, '2020-03-13'],\n [151, 0, 0, 151, '2020-03-14'],\n [162, 0, 0, 162, '2020-03-15'],\n [200, 0, 1, 199, '2020-03-16']]"
     },
     "execution_count": 146,
     "metadata": {},
     "output_type": "execute_result"
    }
   ],
   "source": [
    "final_data"
   ],
   "metadata": {
    "collapsed": false,
    "pycharm": {
     "name": "#%%\n"
    }
   }
  },
  {
   "cell_type": "code",
   "execution_count": 105,
   "outputs": [
    {
     "name": "stdout",
     "output_type": "stream",
     "text": [
      "12:06:21.000007 Hora:minuto:segundo.microsegundo\n",
      "\n",
      "2020-04-25 Ano-mes-dia\n",
      "\n",
      "2020-04-25 12:06:21.000007 ano-mes-dia Hora:minuto:segundo.microsegundo\n"
     ]
    }
   ],
   "source": [
    "print(dt.time(12, 6, 21, 7), 'Hora:minuto:segundo.microsegundo\\n')\n",
    "print(dt.date(2020, 4, 25), 'Ano-mes-dia\\n')\n",
    "print(dt.datetime(2020, 4, 25, 12, 6, 21, 7), 'ano-mes-dia Hora:minuto:segundo.microsegundo')"
   ],
   "metadata": {
    "collapsed": false,
    "pycharm": {
     "name": "#%%\n"
    }
   }
  },
  {
   "cell_type": "code",
   "execution_count": 106,
   "outputs": [
    {
     "name": "stdout",
     "output_type": "stream",
     "text": [
      "7 days, 0:00:00\n",
      "7\n",
      "0\n",
      "0\n"
     ]
    }
   ],
   "source": [
    "natal = dt.date(2020, 12, 25)\n",
    "reveillon = dt.date(2021, 1, 1)\n",
    "\n",
    "print(reveillon - natal)\n",
    "print((reveillon - natal).days)\n",
    "print((reveillon - natal).seconds)\n",
    "print((reveillon - natal).microseconds)"
   ],
   "metadata": {
    "collapsed": false,
    "pycharm": {
     "name": "#%%\n"
    }
   }
  },
  {
   "cell_type": "code",
   "execution_count": 107,
   "outputs": [],
   "source": [
    "import csv"
   ],
   "metadata": {
    "collapsed": false,
    "pycharm": {
     "name": "#%%\n"
    }
   }
  },
  {
   "cell_type": "code",
   "execution_count": 148,
   "outputs": [],
   "source": [
    "with open('brasil-covid.csv', 'w') as file:\n",
    "    writer = csv.writer(file)\n",
    "    writer.writerow(final_data)"
   ],
   "metadata": {
    "collapsed": false,
    "pycharm": {
     "name": "#%%\n"
    }
   }
  },
  {
   "cell_type": "code",
   "execution_count": 149,
   "outputs": [],
   "source": [
    "for i in range(1, len(final_data)):\n",
    "    final_data[i][DATA] = dt.datetime.strptime(final_data[i][DATA], '%Y-%m-%d')"
   ],
   "metadata": {
    "collapsed": false,
    "pycharm": {
     "name": "#%%\n"
    }
   }
  },
  {
   "cell_type": "code",
   "execution_count": 150,
   "outputs": [
    {
     "data": {
      "text/plain": "[['confirmados', 'obitos', 'recuperados', 'ativos', 'data'],\n [1, 0, 0, 1, datetime.datetime(2020, 2, 26, 0, 0)],\n [1, 0, 0, 1, datetime.datetime(2020, 2, 27, 0, 0)],\n [1, 0, 0, 1, datetime.datetime(2020, 2, 28, 0, 0)],\n [2, 0, 0, 2, datetime.datetime(2020, 2, 29, 0, 0)],\n [2, 0, 0, 2, datetime.datetime(2020, 3, 1, 0, 0)],\n [2, 0, 0, 2, datetime.datetime(2020, 3, 2, 0, 0)],\n [2, 0, 0, 2, datetime.datetime(2020, 3, 3, 0, 0)],\n [4, 0, 0, 4, datetime.datetime(2020, 3, 4, 0, 0)],\n [4, 0, 0, 4, datetime.datetime(2020, 3, 5, 0, 0)],\n [13, 0, 0, 13, datetime.datetime(2020, 3, 6, 0, 0)],\n [13, 0, 0, 13, datetime.datetime(2020, 3, 7, 0, 0)],\n [20, 0, 0, 20, datetime.datetime(2020, 3, 8, 0, 0)],\n [25, 0, 0, 25, datetime.datetime(2020, 3, 9, 0, 0)],\n [31, 0, 0, 31, datetime.datetime(2020, 3, 10, 0, 0)],\n [38, 0, 0, 38, datetime.datetime(2020, 3, 11, 0, 0)],\n [52, 0, 0, 52, datetime.datetime(2020, 3, 12, 0, 0)],\n [151, 0, 0, 151, datetime.datetime(2020, 3, 13, 0, 0)],\n [151, 0, 0, 151, datetime.datetime(2020, 3, 14, 0, 0)],\n [162, 0, 0, 162, datetime.datetime(2020, 3, 15, 0, 0)],\n [200, 0, 1, 199, datetime.datetime(2020, 3, 16, 0, 0)]]"
     },
     "execution_count": 150,
     "metadata": {},
     "output_type": "execute_result"
    }
   ],
   "source": [
    "final_data"
   ],
   "metadata": {
    "collapsed": false,
    "pycharm": {
     "name": "#%%\n"
    }
   }
  },
  {
   "cell_type": "code",
   "execution_count": 113,
   "outputs": [],
   "source": [
    "def get_datasets(y, labels):\n",
    "    if type(y[0]) == list:\n",
    "        datasets = []\n",
    "        for i in range(len(y)):\n",
    "            datasets.append({\n",
    "                'label': labels[i],\n",
    "                'data': y[i]\n",
    "            })\n",
    "        return datasets\n",
    "    else:\n",
    "        return [\n",
    "            {\n",
    "                'label': labels[0],\n",
    "                'data': y\n",
    "            }\n",
    "        ]"
   ],
   "metadata": {
    "collapsed": false,
    "pycharm": {
     "name": "#%%\n"
    }
   }
  },
  {
   "cell_type": "code",
   "execution_count": 49,
   "outputs": [],
   "source": [
    "def set_title(title=''):\n",
    "    if title != '':\n",
    "        display = 'True'\n",
    "    else:\n",
    "        display = 'False'\n",
    "    return {\n",
    "        'title': title,\n",
    "        'display': display\n",
    "    }"
   ],
   "metadata": {
    "collapsed": false,
    "pycharm": {
     "name": "#%%\n"
    }
   }
  },
  {
   "cell_type": "code",
   "execution_count": 50,
   "outputs": [],
   "source": [
    "def create_chart(x, y, labels, kind='bar', title=''):\n",
    "    datasets = get_datasets(y, labels)\n",
    "    options = set_title(title)\n",
    "\n",
    "    chart = {\n",
    "        'type': kind,\n",
    "        'data': {\n",
    "            'labels': x,\n",
    "            'datasets': datasets\n",
    "        },\n",
    "        'options': options\n",
    "    }\n",
    "\n",
    "    return chart"
   ],
   "metadata": {
    "collapsed": false,
    "pycharm": {
     "name": "#%%\n"
    }
   }
  },
  {
   "cell_type": "code",
   "execution_count": 122,
   "outputs": [],
   "source": [
    "def get_api_chart(chart):\n",
    "    url_base = 'https://quickchart.io/chart'\n",
    "    resp = r.get(f'{url_base}?c={str(chart)}')\n",
    "\n",
    "    return resp.content"
   ],
   "metadata": {
    "collapsed": false,
    "pycharm": {
     "name": "#%%\n"
    }
   }
  },
  {
   "cell_type": "code",
   "execution_count": 115,
   "outputs": [],
   "source": [
    "def save_image(path, content):\n",
    "    with open(path, 'wb') as image:\n",
    "        image.write(content)"
   ],
   "metadata": {
    "collapsed": false,
    "pycharm": {
     "name": "#%%\n"
    }
   }
  },
  {
   "cell_type": "code",
   "execution_count": 116,
   "outputs": [],
   "source": [
    "from PIL import Image\n",
    "from IPython.display import display"
   ],
   "metadata": {
    "collapsed": false,
    "pycharm": {
     "name": "#%%\n"
    }
   }
  },
  {
   "cell_type": "code",
   "execution_count": 117,
   "outputs": [],
   "source": [
    "def display_image(path):\n",
    "    img_pil = Image.open(path)\n",
    "    display(img_pil)"
   ],
   "metadata": {
    "collapsed": false,
    "pycharm": {
     "name": "#%%\n"
    }
   }
  },
  {
   "cell_type": "code",
   "execution_count": 151,
   "outputs": [
    {
     "data": {
      "text/plain": "<PIL.PngImagePlugin.PngImageFile image mode=RGBA size=1000x600 at 0x14B3B2A94C0>",
      "image/png": "[encoded data removed]"
     },
     "metadata": {},
     "output_type": "display_data"
    }
   ],
   "source": [
    "y_data_1 = []\n",
    "for i in final_data[1::10]:\n",
    "    y_data_1.append(i[CONFIRMADOS])\n",
    "\n",
    "y_data_2 = []\n",
    "for i in final_data[1::10]:\n",
    "    y_data_2.append(i[RECUPERADOS])\n",
    "\n",
    "labels = ['Confirmados', 'Recuperados']\n",
    "\n",
    "x = []\n",
    "for i in final_data[1::10]:\n",
    "    x.append(i[DATA].strftime('%d/%m/%Y'))\n",
    "\n",
    "chart = create_chart(x, [y_data_1, y_data_2], labels, title='Gráficos confirmados e recuperados')\n",
    "chart_content = get_api_chart(chart)\n",
    "save_image('meu-primeiro-grafico.png', chart_content)\n",
    "display_image('meu-primeiro-grafico.png')"
   ],
   "metadata": {
    "collapsed": false,
    "pycharm": {
     "name": "#%%\n"
    }
   }
  },
  {
   "cell_type": "code",
   "execution_count": 132,
   "outputs": [],
   "source": [
    "from urllib.parse import quote"
   ],
   "metadata": {
    "collapsed": false,
    "pycharm": {
     "name": "#%%\n"
    }
   }
  },
  {
   "cell_type": "code",
   "execution_count": 133,
   "outputs": [],
   "source": [
    "def get_api_qrcode(link):\n",
    "    text = quote(link)\n",
    "    url_base = 'https://quickchart.io/qr'\n",
    "    resp = r.get(f'{url_base}?text={text}')\n",
    "    return resp.content"
   ],
   "metadata": {
    "collapsed": false,
    "pycharm": {
     "name": "#%%\n"
    }
   }
  },
  {
   "cell_type": "code",
   "execution_count": 152,
   "outputs": [
    {
     "data": {
      "text/plain": "<PIL.PngImagePlugin.PngImageFile image mode=RGBA size=150x150 at 0x14B3ACE9F40>",
      "image/png": "[encoded data removed]"
     },
     "metadata": {},
     "output_type": "display_data"
    }
   ],
   "source": [
    "url_base = 'https://quickchart.io/chart'\n",
    "link = f'{url_base}?c={str(chart)}'\n",
    "save_image('qr-code.png', get_api_qrcode(link))\n",
    "display_image('qr-code.png')\n",
    "# finish"
   ],
   "metadata": {
    "collapsed": false,
    "pycharm": {
     "name": "#%%\n"
    }
   }
  }
 ],
 "metadata": {
  "kernelspec": {
   "display_name": "Python 3",
   "language": "python",
   "name": "python3"
  },
  "language_info": {
   "codemirror_mode": {
    "name": "ipython",
    "version": 2
   },
   "file_extension": ".py",
   "mimetype": "text/x-python",
   "name": "python",
   "nbconvert_exporter": "python",
   "pygments_lexer": "ipython2",
   "version": "2.7.6"
  }
 },
 "nbformat": 4,
 "nbformat_minor": 0
}