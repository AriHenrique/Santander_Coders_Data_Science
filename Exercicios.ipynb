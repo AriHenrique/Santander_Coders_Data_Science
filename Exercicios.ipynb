{
 "cells": [
  {
   "cell_type": "markdown",
   "source": [
    "# Lista de exercícios - Python"
   ],
   "metadata": {
    "collapsed": false
   }
  },
  {
   "cell_type": "markdown",
   "source": [
    "## Questão 1"
   ],
   "metadata": {
    "collapsed": false
   }
  },
  {
   "cell_type": "markdown",
   "source": [
    "Faça um programa que peça ao usuário um número e imprima todos os\n",
    "números de um até o número que o usuário informar.\n",
    "\n",
    "💡 Exemplo:\n",
    "Se o usuário informar o número 5, seu programa deverá imprimir: 1 2 3 4 5.\n"
   ],
   "metadata": {
    "collapsed": false
   }
  },
  {
   "cell_type": "code",
   "execution_count": 8,
   "outputs": [
    {
     "name": "stdout",
     "output_type": "stream",
     "text": [
      "1\n",
      "2\n",
      "3\n",
      "4\n",
      "5\n",
      "6\n",
      "7\n",
      "8\n",
      "9\n",
      "10\n",
      "11\n",
      "12\n",
      "13\n",
      "14\n",
      "15\n",
      "16\n",
      "17\n",
      "18\n",
      "19\n",
      "20\n",
      "Fim\n"
     ]
    }
   ],
   "source": [
    "while True:\n",
    "    try:\n",
    "        num = int(input(\"Digite um número INTEIRO: \"))\n",
    "        for i in range(1, num + 1):\n",
    "            print(i)\n",
    "        print(\"Fim\")\n",
    "        break\n",
    "    except ValueError:\n",
    "        loop = input(\"Digite APENAS números INTEIRO! Gostaria de tentar novamente?Y/n\").lower()\n",
    "        if loop == 'y':\n",
    "            continue\n",
    "        else:\n",
    "            print(\"Fim\")\n",
    "            break"
   ],
   "metadata": {
    "collapsed": false
   }
  },
  {
   "cell_type": "markdown",
   "source": [
    "## Questão 2"
   ],
   "metadata": {
    "collapsed": false
   }
  },
  {
   "cell_type": "markdown",
   "source": [
    "Crie um programa que leia um valor qualquer e apresente uma mensagem dizendo em qual\n",
    "dos seguintes intervalos ([0,25], (25,50], (50,75], (75,100]) este valor se encontra. Caso o valor não\n",
    "esteja em nenhum destes intervalos, deverá ser impressa a mensagem “Fora de intervalo”. Veja\n",
    "alguns exemplo abaixo:\n",
    "\n",
    "Entrada: 25.01 | Saída: (25,50]\n",
    "Entrada: 25.00 | Saída: [0,25]\n",
    "Entrada: 100.00 | Saída: (75,100]\n",
    "Entrada: -25.02 | Saída: Fora de intervalo\n",
    "\n",
    "Lembrando que o [ ou ] representa que o valor está contido no intervalo, enquanto o ( ou\n",
    ") representa que o valor associado não está contido no intervalo. Em outras palavras, (75, 100]\n",
    "representa o intervalo que vai de maior que 75 (não incluindo o 75) até menor ou igual 100.\n"
   ],
   "metadata": {
    "collapsed": false
   }
  },
  {
   "cell_type": "code",
   "execution_count": 21,
   "outputs": [
    {
     "name": "stdout",
     "output_type": "stream",
     "text": [
      "20.0 esta entre [0,25]\n",
      "Fim\n"
     ]
    }
   ],
   "source": [
    "while True:\n",
    "    try:\n",
    "        entrada = float(\n",
    "            input(\"Digite um valor qualquer e veja em quanto intervalos ele está.\\n\"\n",
    "                  \"Ex:([0,25], [25,50], [50,75], [75,100]): \"))\n",
    "        if entrada > 100 or entrada < 0:\n",
    "            print(f'{entrada} está Fora do intervalo')\n",
    "        elif entrada > 75:\n",
    "            print(f'{entrada} esta entre [75,100]')\n",
    "        elif entrada > 50:\n",
    "            print(f'{entrada} esta entre [50,75]')\n",
    "        elif entrada > 25:\n",
    "            print(f'{entrada} esta entre [25,50]')\n",
    "        else:\n",
    "            print(f'{entrada} esta entre [0,25]')\n",
    "        print(\"Fim\")\n",
    "        break\n",
    "    except ValueError:\n",
    "        loop = input(\"Digite apenas números, inteiros ou com casas decimais.\\n\"\n",
    "                     \"Gostaria de Continuar?Y/n\")\n",
    "        if loop == 'y':\n",
    "            continue\n",
    "        else:\n",
    "            print(\"Fim\")\n",
    "            break"
   ],
   "metadata": {
    "collapsed": false
   }
  },
  {
   "cell_type": "markdown",
   "source": [
    "## Questão 3"
   ],
   "metadata": {
    "collapsed": false
   }
  },
  {
   "cell_type": "markdown",
   "source": [
    "Crie uma função que recebe o valor do raio de um círculo como parâmetro e retorna o valor da\n",
    "área desse círculo. Lembrando que a área de círculo é dada pela equação: A = ℼ r^2.\n",
    "\n",
    "Dica: Para utilizar um valor mais preciso do pi (ℼ), você pode importar a biblioteca math, e\n",
    "utilizar o math.pi, como ilustrado no código abaixo:\n",
    "\n",
    "import math\n",
    "print(math.pi)"
   ],
   "metadata": {
    "collapsed": false
   }
  },
  {
   "cell_type": "markdown",
   "source": [
    "## Questão 4"
   ],
   "metadata": {
    "collapsed": false
   }
  },
  {
   "cell_type": "markdown",
   "source": [
    "Faça um programa que peça 2 números inteiros e um número real,\n",
    "calcule e mostre:\n",
    "a) o produto entre o dobro do primeiro e a metade do segundo.\n",
    "b) a soma entre o triplo do primeiro e o terceiro.\n",
    "c) o terceiro elevado ao cubo."
   ],
   "metadata": {
    "collapsed": false
   }
  },
  {
   "cell_type": "markdown",
   "source": [
    "## Questão 5"
   ],
   "metadata": {
    "collapsed": false
   }
  },
  {
   "cell_type": "markdown",
   "source": [
    "Vamos fazer um programa para verificar quem é o assassino de um\n",
    "crime. Para descobrir o assassino, a polícia faz um pequeno questionário\n",
    "com 5 perguntas onde a resposta só pode ser sim ou não:\n",
    "\n",
    "1. Mora perto da vítima?\n",
    "2. Já trabalhou com a vítima?\n",
    "3. Telefonou para a vítima?\n",
    "4. Esteve no local do crime?\n",
    "5. Devia para a vítima?\n",
    "\n",
    "Cada resposta sim dá um ponto para o suspeito. A polícia considera que os suspeitos com 5\n",
    "pontos são os assassinos, com 4 a 3 pontos são cúmplices e 2 pontos são apenas suspeitos,\n",
    "necessitando de outras investigações. Valores abaixo de 2 são liberados.\n",
    "\n",
    "No seu programa, você deve fazer essas perguntas e, de acordo com as respostas do usuário,\n",
    "você vai informar como a polícia o considera."
   ],
   "metadata": {
    "collapsed": false
   }
  },
  {
   "cell_type": "markdown",
   "source": [
    "## Questão 6"
   ],
   "metadata": {
    "collapsed": false
   }
  },
  {
   "cell_type": "markdown",
   "source": [
    "Faça uma função que recebe uma lista de números e retorna a soma dos elementos dessa lista"
   ],
   "metadata": {
    "collapsed": false
   }
  },
  {
   "cell_type": "markdown",
   "source": [
    "## Questão 7"
   ],
   "metadata": {
    "collapsed": false
   }
  },
  {
   "cell_type": "markdown",
   "source": [
    "Faça um programa que leia as coordenadas de 2 (dois) pontos em um plano cartesiano 2D: a\n",
    "coordenada x do primeiro ponto (x_1), a coordenada y do primeiro ponto (y_1), a coordenada x do\n",
    "segundo ponto (x_2) e a coordenada y do segundo ponto (y_2). Em seguida, calcule a distância\n",
    "euclidiana entre os pontos, utilizando a equação abaixo:\n",
    "\n",
    "d = (x2 − x1)² + (y2 − y1)²"
   ],
   "metadata": {
    "collapsed": false
   }
  },
  {
   "cell_type": "markdown",
   "source": [
    "## Questão 8"
   ],
   "metadata": {
    "collapsed": false
   }
  },
  {
   "cell_type": "markdown",
   "source": [
    "Calcule a soma de mil termos dos inversos dos fatoriais: 1/(1!) + 1/(2!) + 1/(3!) + 1/(4!) + ...\n",
    "Dica: Use três variáveis:\n",
    "\n",
    "● um contador;\n",
    "● uma variável para soma;\n",
    "● e uma variável para os termos.\n",
    "\n",
    "Lembre-se de que 4! = 4 * *3 ** 2 * *1, que também é igual a 4 ** 3!."
   ],
   "metadata": {
    "collapsed": false
   }
  },
  {
   "cell_type": "markdown",
   "source": [
    "## Questão 9"
   ],
   "metadata": {
    "collapsed": false
   }
  },
  {
   "cell_type": "markdown",
   "source": [
    "Crie (manualmente ou sorteando os números) uma lista de 10 números e\n",
    "imprima:\n",
    "1. uma lista com os 4 primeiros números;\n",
    "2. uma lista com os 5 últimos números;\n",
    "3. uma lista contendo apenas os elementos das posições pares;\n",
    "4. uma lista contendo apenas os elementos das posições ímpares;\n",
    "5. a lista inversa da lista sorteada (isto é, uma lista que começa com\n",
    "o último elemento da lista sorteada e termina com o primeiro);\n",
    "6. uma lista inversa dos 5 primeiros números;\n",
    "7. uma lista inversa dos 5 últimos números."
   ],
   "metadata": {
    "collapsed": false
   }
  },
  {
   "cell_type": "markdown",
   "source": [
    "## Questão 10"
   ],
   "metadata": {
    "collapsed": false
   }
  },
  {
   "cell_type": "markdown",
   "source": [
    "Na música, uma nota tem um tom (sua frequência, resultando em quão grave ou agudo é o\n",
    "som) e uma duração (por quanto tempo a nota soa). Neste problema, estamos interessados\n",
    "apenas na duração das notas.\n",
    "\n",
    "Marcos está dando os primeiros passos para ser um compositor de jingles. Ele está tendo alguns\n",
    "problemas, mas ao menos ele está criando melodias agradáveis e ritmos atrativos. Um jingle é\n",
    "dividido em uma sequência de compassos, e um compasso é formado de uma série de notas.\n",
    "\n",
    "A duração de uma nota é indicada pela sua forma. Neste problema, iremos utilizar letras\n",
    "maiúsculas para indicar a duração de uma nota. A seguinte tabela lista todas as notas\n",
    "disponíveis:\n",
    "<br>\n",
    "<img src=\"img\\notas.png\"/>\n",
    "<br>\n",
    "A duração de um compasso é a soma da duração de suas notas. Nos jingles de Marcos, cada\n",
    "compasso tem a mesma duração. Como Marcos é apenas um iniciante, seu famoso professor\n",
    "Johann Sebastian III o ensinou que a duração de um compasso deve ser sempre 1.\n",
    "\n",
    "Por exemplo, Marcos escreveu uma composição contendo cinco compassos, dentre os quais\n",
    "quatro possuem a duração correta e um está errado. No exemplo abaixo, cada compasso é\n",
    "delimitado com barras e cada nota é representada como na tabela acima.\n",
    "<br>\n",
    "<img src=\"img\\notas2.png\"/>\n",
    "<br>\n",
    "Marcos gosta de computadores assim como de música. Ele quer que você escreva um programa\n",
    "que determine, para cada uma de suas composições, quantos compassos possuem a duração\n",
    "correta e quais são os compassos com duração incorreta.\n",
    "<br>\n",
    "<table border=\"5\">\n",
    "    <tr>\n",
    "        <th>Exemplo de Entrada<th/>\n",
    "        <th>Exemplo de Saída<th/>\n",
    "    <tr/>\n",
    "    <tr>\n",
    "        <td>/HH/QQQQ/XXXTXTEQH/W/HW/<td/>\n",
    "        <td>Qtd. de Corretos: 4<br>Incorretos: HW<td/>\n",
    "    <tr/>\n",
    "    <tr>\n",
    "        <td>/W/W/SQHES/<td/>\n",
    "        <td>Qtd. de Corretos: 3<td/>\n",
    "    <tr/>\n",
    "    <tr>\n",
    "        <td>/WE/TEX/THES/<td/>\n",
    "        <td>Qtd. de Corretos: 0<br>Incorretos: [WE, TEX, THES]<td/>\n",
    "    <tr/>\n",
    "<table/>"
   ],
   "metadata": {
    "collapsed": false
   }
  }
 ],
 "metadata": {
  "kernelspec": {
   "display_name": "Python 3",
   "language": "python",
   "name": "python3"
  },
  "language_info": {
   "codemirror_mode": {
    "name": "ipython",
    "version": 2
   },
   "file_extension": ".py",
   "mimetype": "text/x-python",
   "name": "python",
   "nbconvert_exporter": "python",
   "pygments_lexer": "ipython2",
   "version": "2.7.6"
  }
 },
 "nbformat": 4,
 "nbformat_minor": 0
}
